{
 "cells": [
  {
   "cell_type": "code",
   "execution_count": 17,
   "metadata": {},
   "outputs": [
    {
     "name": "stdout",
     "output_type": "stream",
     "text": [
      "22\n",
      "Piece: square, Position: 22\n",
      "22\n",
      "Piece: square, Position: 22\n"
     ]
    }
   ],
   "source": [
    "import re\n",
    "\n",
    "\n",
    "test = 'bnot piece square-22 bp'\n",
    "\n",
    "def extract_piece_and_position(s):\n",
    "    piece_match = re.search(r'piece (\\w+)', s)\n",
    "    square_match = re.search(r'square-(\\d+)', s)\n",
    "    hei = re.findall(r'[bw][a-z]', s)\n",
    "\n",
    "    print(square_match.group(1))\n",
    "\n",
    "    if piece_match and square_match:\n",
    "        piece = piece_match.group(1)\n",
    "        position = square_match.group(1)\n",
    "        return piece, position\n",
    "\n",
    "    return None, None\n",
    "\n",
    "# Test the function\n",
    "piece, position = extract_piece_and_position('wp piece square-22')\n",
    "print(f'Piece: {piece}, Position: {position}')\n",
    "\n",
    "piece, position = extract_piece_and_position(test)\n",
    "print(f'Piece: {piece}, Position: {position}')"
   ]
  }
 ],
 "metadata": {
  "kernelspec": {
   "display_name": "Sjakkbot",
   "language": "python",
   "name": "python3"
  },
  "language_info": {
   "codemirror_mode": {
    "name": "ipython",
    "version": 3
   },
   "file_extension": ".py",
   "mimetype": "text/x-python",
   "name": "python",
   "nbconvert_exporter": "python",
   "pygments_lexer": "ipython3",
   "version": "3.10.6"
  }
 },
 "nbformat": 4,
 "nbformat_minor": 2
}
