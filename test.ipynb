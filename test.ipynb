{
 "cells": [
  {
   "cell_type": "code",
   "execution_count": 15,
   "metadata": {},
   "outputs": [
    {
     "name": "stdout",
     "output_type": "stream",
     "text": [
      "22\n",
      "Piece: square, Position: 22\n",
      "22\n",
      "Piece: square, Position: 22\n"
     ]
    }
   ],
   "source": [
    "import re\n",
    "\n",
    "\n",
    "test = 'bnot piece square-22 bp'\n",
    "\n",
    "def extract_piece_and_position(s):\n",
    "    piece_match = re.search(r'piece (\\w+)', s)\n",
    "    square_match = re.search(r'square-(\\d+)', s)\n",
    "    hei = re.findall(r'[bw][a-z]', s)\n",
    "\n",
    "    print(square_match.group(1))\n",
    "\n",
    "    if piece_match and square_match:\n",
    "        piece = piece_match.group(1)\n",
    "        position = square_match.group(1)\n",
    "        return piece, position\n",
    "\n",
    "    return None, None\n",
    "\n",
    "# Test the function\n",
    "piece, position = extract_piece_and_position('wp piece square-22')\n",
    "print(f'Piece: {piece}, Position: {position}')\n",
    "\n",
    "piece, position = extract_piece_and_position(test)\n",
    "print(f'Piece: {piece}, Position: {position}')"
   ]
  },
  {
   "cell_type": "code",
   "execution_count": 19,
   "metadata": {},
   "outputs": [
    {
     "name": "stdout",
     "output_type": "stream",
     "text": [
      "\u001b[31mHello\n",
      "hei\n"
     ]
    }
   ],
   "source": [
    "class colors:\n",
    "    BLACK = '\\033[30m'\n",
    "    RED = '\\033[31m'\n",
    "    GREEN = '\\033[32m'\n",
    "    BROWN = '\\033[33m'\n",
    "    BLUE = '\\033[34m'\n",
    "    PURPLE = '\\033[35m'\n",
    "    CYAN = '\\033[36m'\n",
    "    GREY = '\\033[37m'\n",
    "    WHITE = '\\033[38m'\n",
    "    UNDERLINE = '\\033[4m'\n",
    "    RESET = '\\033[0m'\n",
    "    HIDDEN = '\\033[8m'\n",
    "\n",
    "\n",
    "print(colors.RED + 'Hello')\n",
    "print('hei')"
   ]
  }
 ],
 "metadata": {
  "kernelspec": {
   "display_name": "Sjakkbot",
   "language": "python",
   "name": "python3"
  },
  "language_info": {
   "codemirror_mode": {
    "name": "ipython",
    "version": 3
   },
   "file_extension": ".py",
   "mimetype": "text/x-python",
   "name": "python",
   "nbconvert_exporter": "python",
   "pygments_lexer": "ipython3",
   "version": "3.10.6"
  }
 },
 "nbformat": 4,
 "nbformat_minor": 2
}
